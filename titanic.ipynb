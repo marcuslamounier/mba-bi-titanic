{
 "cells": [
  {
   "cell_type": "markdown",
   "metadata": {},
   "source": [
    "# Análise Avançada dos Dados do Titanic e Criação de Cubos"
   ]
  },
  {
   "cell_type": "markdown",
   "metadata": {},
   "source": [
    "## Contexto\n",
    "\n",
    "Você recebeu um dataset contendo informações sobre os passageiros do Titanic. Sua tarefa é analisar os dados de maneira aprofundada, integrando fontes externas, criando um cubo OLAP complexo, e realizando análises preditivas. O objetivo é praticar a modelagem dimensional avançada, a integração de dados e o uso de técnicas de Business Intelligence para insights mais profundos."
   ]
  },
  {
   "cell_type": "markdown",
   "metadata": {},
   "source": [
    "## Descrição dos Campos do Dataset do Titanic\n",
    "\n",
    "Descrição dos Campos do Dataset do Titanic\n",
    "1. PassengerId:\n",
    "- Descrição: Identificador único para cada passageiro.\n",
    "- Tipo: Numérico (inteiro)\n",
    "- Exemplo: 892\n",
    "2. Survived:\n",
    "- Descrição: Indicador de sobrevivência do passageiro (0 = Não sobreviveu, 1 = Sobreviveu).\n",
    "- Tipo: Numérico (inteiro)\n",
    "- Exemplo: 1\n",
    "3. Pclass:\n",
    "- Descrição: Classe de ticket do passageiro (1 = Primeira classe, 2 = Segunda classe, 3 = Terceira classe).\n",
    "- Tipo: Numérico (inteiro)\n",
    "- Exemplo: 3\n",
    "4. Name:\n",
    "- Descrição: Nome do passageiro.\n",
    "- Tipo: Texto (string)\n",
    "- Exemplo: \"Kelly, Mr. James\"\n",
    "5. Sex:\n",
    "- Descrição: Gênero do passageiro.\n",
    "- Tipo: Texto (string)\n",
    "- Exemplo: \"male\"\n",
    "6. Age:\n",
    "- Descrição: Idade do passageiro em anos.\n",
    "- Tipo: Numérico (decimal)\n",
    "- Exemplo: 47.0\n",
    "7. SibSp:\n",
    "- Descrição: Número de irmãos/cônjuges a bordo com o passageiro.\n",
    "- Tipo: Numérico (inteiro)\n",
    "- Exemplo: 1\n",
    "8. Parch:\n",
    "- Descrição: Número de pais/filhos a bordo com o passageiro.\n",
    "- Tipo: Numérico (inteiro)\n",
    "- Exemplo: 0\n",
    "9. Ticket:\n",
    "- Descrição: Número do ticket do passageiro.\n",
    "- Tipo: Texto (string)\n",
    "- Exemplo: \"330911\"\n",
    "10. Fare:\n",
    "- Descrição: Tarifa paga pelo passageiro.\n",
    "- Tipo: Numérico (decimal)\n",
    "- Exemplo: 78292.0\n",
    "11. Cabin:\n",
    "- Descrição: Número da cabine do passageiro.\n",
    "- Tipo: Texto (string)\n",
    "- Exemplo: \"C85\"\n",
    "12. Embarked:\n",
    "- Descrição: Porto de embarque do passageiro (C = Cherbourg, Q = Queenstown, S = Southampton).\n",
    "- Tipo: Texto (string)\n",
    "- Exemplo: \"S\"\n"
   ]
  },
  {
   "cell_type": "markdown",
   "metadata": {},
   "source": [
    "## Passos"
   ]
  },
  {
   "cell_type": "markdown",
   "metadata": {},
   "source": [
    "### Passo 1: Exploração Inicial dos Dados"
   ]
  },
  {
   "cell_type": "markdown",
   "metadata": {},
   "source": [
    "1. Carregue o dataset e visualize as primeiras linhas."
   ]
  },
  {
   "cell_type": "code",
   "execution_count": 1,
   "metadata": {},
   "outputs": [],
   "source": [
    "import pandas as pd\n",
    "import seaborn as sb\n",
    "from math import ceil, floor\n",
    "from sklearn import preprocessing\n",
    "from sklearn.model_selection import train_test_split\n",
    "from sklearn.linear_model import LogisticRegression\n",
    "\n",
    "pd.set_option('display.max_rows', 500)"
   ]
  },
  {
   "cell_type": "code",
   "execution_count": 2,
   "metadata": {},
   "outputs": [
    {
     "data": {
      "text/html": [
       "<div>\n",
       "<style scoped>\n",
       "    .dataframe tbody tr th:only-of-type {\n",
       "        vertical-align: middle;\n",
       "    }\n",
       "\n",
       "    .dataframe tbody tr th {\n",
       "        vertical-align: top;\n",
       "    }\n",
       "\n",
       "    .dataframe thead th {\n",
       "        text-align: right;\n",
       "    }\n",
       "</style>\n",
       "<table border=\"1\" class=\"dataframe\">\n",
       "  <thead>\n",
       "    <tr style=\"text-align: right;\">\n",
       "      <th></th>\n",
       "      <th>PassengerId</th>\n",
       "      <th>Survived</th>\n",
       "      <th>Pclass</th>\n",
       "      <th>Name</th>\n",
       "      <th>Sex</th>\n",
       "      <th>Age</th>\n",
       "      <th>SibSp</th>\n",
       "      <th>Parch</th>\n",
       "      <th>Ticket</th>\n",
       "      <th>Fare</th>\n",
       "      <th>Cabin</th>\n",
       "      <th>Embarked</th>\n",
       "    </tr>\n",
       "  </thead>\n",
       "  <tbody>\n",
       "    <tr>\n",
       "      <th>0</th>\n",
       "      <td>892</td>\n",
       "      <td>0</td>\n",
       "      <td>3</td>\n",
       "      <td>Kelly, Mr. James</td>\n",
       "      <td>male</td>\n",
       "      <td>345.0</td>\n",
       "      <td>0</td>\n",
       "      <td>0</td>\n",
       "      <td>330911</td>\n",
       "      <td>78292.0</td>\n",
       "      <td>NaN</td>\n",
       "      <td>Q</td>\n",
       "    </tr>\n",
       "    <tr>\n",
       "      <th>1</th>\n",
       "      <td>893</td>\n",
       "      <td>1</td>\n",
       "      <td>3</td>\n",
       "      <td>Wilkes, Mrs. James (Ellen Needs)</td>\n",
       "      <td>female</td>\n",
       "      <td>47.0</td>\n",
       "      <td>1</td>\n",
       "      <td>0</td>\n",
       "      <td>363272</td>\n",
       "      <td>7.0</td>\n",
       "      <td>NaN</td>\n",
       "      <td>S</td>\n",
       "    </tr>\n",
       "    <tr>\n",
       "      <th>2</th>\n",
       "      <td>894</td>\n",
       "      <td>0</td>\n",
       "      <td>2</td>\n",
       "      <td>Myles, Mr. Thomas Francis</td>\n",
       "      <td>male</td>\n",
       "      <td>62.0</td>\n",
       "      <td>0</td>\n",
       "      <td>0</td>\n",
       "      <td>240276</td>\n",
       "      <td>96875.0</td>\n",
       "      <td>NaN</td>\n",
       "      <td>Q</td>\n",
       "    </tr>\n",
       "    <tr>\n",
       "      <th>3</th>\n",
       "      <td>895</td>\n",
       "      <td>0</td>\n",
       "      <td>3</td>\n",
       "      <td>Wirz, Mr. Albert</td>\n",
       "      <td>male</td>\n",
       "      <td>27.0</td>\n",
       "      <td>0</td>\n",
       "      <td>0</td>\n",
       "      <td>315154</td>\n",
       "      <td>86625.0</td>\n",
       "      <td>NaN</td>\n",
       "      <td>S</td>\n",
       "    </tr>\n",
       "    <tr>\n",
       "      <th>4</th>\n",
       "      <td>896</td>\n",
       "      <td>1</td>\n",
       "      <td>3</td>\n",
       "      <td>Hirvonen, Mrs. Alexander (Helga E Lindqvist)</td>\n",
       "      <td>female</td>\n",
       "      <td>22.0</td>\n",
       "      <td>1</td>\n",
       "      <td>1</td>\n",
       "      <td>3101298</td>\n",
       "      <td>122875.0</td>\n",
       "      <td>NaN</td>\n",
       "      <td>S</td>\n",
       "    </tr>\n",
       "  </tbody>\n",
       "</table>\n",
       "</div>"
      ],
      "text/plain": [
       "   PassengerId  Survived  Pclass  \\\n",
       "0          892         0       3   \n",
       "1          893         1       3   \n",
       "2          894         0       2   \n",
       "3          895         0       3   \n",
       "4          896         1       3   \n",
       "\n",
       "                                           Name     Sex    Age  SibSp  Parch  \\\n",
       "0                              Kelly, Mr. James    male  345.0      0      0   \n",
       "1              Wilkes, Mrs. James (Ellen Needs)  female   47.0      1      0   \n",
       "2                     Myles, Mr. Thomas Francis    male   62.0      0      0   \n",
       "3                              Wirz, Mr. Albert    male   27.0      0      0   \n",
       "4  Hirvonen, Mrs. Alexander (Helga E Lindqvist)  female   22.0      1      1   \n",
       "\n",
       "    Ticket      Fare Cabin Embarked  \n",
       "0   330911   78292.0   NaN        Q  \n",
       "1   363272       7.0   NaN        S  \n",
       "2   240276   96875.0   NaN        Q  \n",
       "3   315154   86625.0   NaN        S  \n",
       "4  3101298  122875.0   NaN        S  "
      ]
     },
     "execution_count": 2,
     "metadata": {},
     "output_type": "execute_result"
    }
   ],
   "source": [
    "df_passenger = pd.read_excel(\"Exercicio Data Set Titanic.xlsx\")\n",
    "df_passenger.head()"
   ]
  },
  {
   "cell_type": "markdown",
   "metadata": {},
   "source": [
    "2. Verifique se há valores ausentes e trate-os adequadamente."
   ]
  },
  {
   "cell_type": "code",
   "execution_count": 3,
   "metadata": {},
   "outputs": [
    {
     "data": {
      "text/plain": [
       "PassengerId      0\n",
       "Survived         0\n",
       "Pclass           0\n",
       "Name             0\n",
       "Sex              0\n",
       "Age             86\n",
       "SibSp            0\n",
       "Parch            0\n",
       "Ticket           0\n",
       "Fare             1\n",
       "Cabin          327\n",
       "Embarked         0\n",
       "dtype: int64"
      ]
     },
     "execution_count": 3,
     "metadata": {},
     "output_type": "execute_result"
    }
   ],
   "source": [
    "df_passenger.isna().sum()"
   ]
  },
  {
   "cell_type": "code",
   "execution_count": 4,
   "metadata": {},
   "outputs": [],
   "source": [
    "df_passenger[\"Cabin\"] = df_passenger[\"Cabin\"].fillna(\"NA\")\n",
    "\n",
    "def assign_sex(v):\n",
    "    if (v in [\"M\", \"F\"]):\n",
    "        return v\n",
    "\n",
    "    sex = str(v).lower()\n",
    "\n",
    "    if (sex not in [\"male\", \"female\"]):\n",
    "        raise ValueError(\"Sexo precisa ser 'male' ou 'female'\")\n",
    "    \n",
    "    return \"M\" if sex == \"male\" else \"F\"\n",
    "\n",
    "df_passenger[\"Sex\"] = df_passenger[\"Sex\"].apply(assign_sex)"
   ]
  },
  {
   "cell_type": "markdown",
   "metadata": {},
   "source": [
    "3. Explore as estatísticas descritivas dos dados, como média, mediana, desvio padrão, etc."
   ]
  },
  {
   "cell_type": "code",
   "execution_count": 5,
   "metadata": {},
   "outputs": [
    {
     "data": {
      "text/html": [
       "<div>\n",
       "<style scoped>\n",
       "    .dataframe tbody tr th:only-of-type {\n",
       "        vertical-align: middle;\n",
       "    }\n",
       "\n",
       "    .dataframe tbody tr th {\n",
       "        vertical-align: top;\n",
       "    }\n",
       "\n",
       "    .dataframe thead th {\n",
       "        text-align: right;\n",
       "    }\n",
       "</style>\n",
       "<table border=\"1\" class=\"dataframe\">\n",
       "  <thead>\n",
       "    <tr style=\"text-align: right;\">\n",
       "      <th></th>\n",
       "      <th>PassengerId</th>\n",
       "      <th>Survived</th>\n",
       "      <th>Pclass</th>\n",
       "      <th>Age</th>\n",
       "      <th>SibSp</th>\n",
       "      <th>Parch</th>\n",
       "      <th>Fare</th>\n",
       "    </tr>\n",
       "  </thead>\n",
       "  <tbody>\n",
       "    <tr>\n",
       "      <th>count</th>\n",
       "      <td>418.000000</td>\n",
       "      <td>418.000000</td>\n",
       "      <td>418.000000</td>\n",
       "      <td>332.000000</td>\n",
       "      <td>418.000000</td>\n",
       "      <td>418.000000</td>\n",
       "      <td>4.170000e+02</td>\n",
       "    </tr>\n",
       "    <tr>\n",
       "      <th>mean</th>\n",
       "      <td>1100.500000</td>\n",
       "      <td>0.363636</td>\n",
       "      <td>2.265550</td>\n",
       "      <td>42.945783</td>\n",
       "      <td>0.447368</td>\n",
       "      <td>0.392344</td>\n",
       "      <td>1.385835e+05</td>\n",
       "    </tr>\n",
       "    <tr>\n",
       "      <th>std</th>\n",
       "      <td>120.810458</td>\n",
       "      <td>0.481622</td>\n",
       "      <td>0.841838</td>\n",
       "      <td>61.374513</td>\n",
       "      <td>0.896760</td>\n",
       "      <td>0.981429</td>\n",
       "      <td>4.121475e+05</td>\n",
       "    </tr>\n",
       "    <tr>\n",
       "      <th>min</th>\n",
       "      <td>892.000000</td>\n",
       "      <td>0.000000</td>\n",
       "      <td>1.000000</td>\n",
       "      <td>1.000000</td>\n",
       "      <td>0.000000</td>\n",
       "      <td>0.000000</td>\n",
       "      <td>0.000000e+00</td>\n",
       "    </tr>\n",
       "    <tr>\n",
       "      <th>25%</th>\n",
       "      <td>996.250000</td>\n",
       "      <td>0.000000</td>\n",
       "      <td>1.000000</td>\n",
       "      <td>22.000000</td>\n",
       "      <td>0.000000</td>\n",
       "      <td>0.000000</td>\n",
       "      <td>2.850000e+02</td>\n",
       "    </tr>\n",
       "    <tr>\n",
       "      <th>50%</th>\n",
       "      <td>1100.500000</td>\n",
       "      <td>0.000000</td>\n",
       "      <td>3.000000</td>\n",
       "      <td>29.000000</td>\n",
       "      <td>0.000000</td>\n",
       "      <td>0.000000</td>\n",
       "      <td>2.655000e+03</td>\n",
       "    </tr>\n",
       "    <tr>\n",
       "      <th>75%</th>\n",
       "      <td>1204.750000</td>\n",
       "      <td>1.000000</td>\n",
       "      <td>3.000000</td>\n",
       "      <td>42.250000</td>\n",
       "      <td>1.000000</td>\n",
       "      <td>0.000000</td>\n",
       "      <td>7.895800e+04</td>\n",
       "    </tr>\n",
       "    <tr>\n",
       "      <th>max</th>\n",
       "      <td>1309.000000</td>\n",
       "      <td>1.000000</td>\n",
       "      <td>3.000000</td>\n",
       "      <td>605.000000</td>\n",
       "      <td>8.000000</td>\n",
       "      <td>9.000000</td>\n",
       "      <td>5.123292e+06</td>\n",
       "    </tr>\n",
       "  </tbody>\n",
       "</table>\n",
       "</div>"
      ],
      "text/plain": [
       "       PassengerId    Survived      Pclass         Age       SibSp  \\\n",
       "count   418.000000  418.000000  418.000000  332.000000  418.000000   \n",
       "mean   1100.500000    0.363636    2.265550   42.945783    0.447368   \n",
       "std     120.810458    0.481622    0.841838   61.374513    0.896760   \n",
       "min     892.000000    0.000000    1.000000    1.000000    0.000000   \n",
       "25%     996.250000    0.000000    1.000000   22.000000    0.000000   \n",
       "50%    1100.500000    0.000000    3.000000   29.000000    0.000000   \n",
       "75%    1204.750000    1.000000    3.000000   42.250000    1.000000   \n",
       "max    1309.000000    1.000000    3.000000  605.000000    8.000000   \n",
       "\n",
       "            Parch          Fare  \n",
       "count  418.000000  4.170000e+02  \n",
       "mean     0.392344  1.385835e+05  \n",
       "std      0.981429  4.121475e+05  \n",
       "min      0.000000  0.000000e+00  \n",
       "25%      0.000000  2.850000e+02  \n",
       "50%      0.000000  2.655000e+03  \n",
       "75%      0.000000  7.895800e+04  \n",
       "max      9.000000  5.123292e+06  "
      ]
     },
     "execution_count": 5,
     "metadata": {},
     "output_type": "execute_result"
    }
   ],
   "source": [
    "df_passenger.describe()"
   ]
  },
  {
   "cell_type": "markdown",
   "metadata": {},
   "source": [
    "### Passo 2: Limpeza e Transformação dos Dados"
   ]
  },
  {
   "cell_type": "markdown",
   "metadata": {},
   "source": [
    "1.\tSubstitua valores ausentes de acordo com a estratégia escolhida (média, mediana, valor fixo, etc.)."
   ]
  },
  {
   "cell_type": "code",
   "execution_count": 6,
   "metadata": {},
   "outputs": [],
   "source": [
    "df_passenger_agg = df_passenger.groupby([\"Pclass\", \"Sex\"])\n",
    "\n",
    "def get_aggval_group(df, col, arr, fun = \"mean\"):\n",
    "    try:\n",
    "        return df[col].agg(fun).loc[*arr]\n",
    "    except KeyError:\n",
    "        return None\n",
    "    \n",
    "df_passenger[\"Fare\"] = df_passenger.apply(\n",
    "    lambda row: int(get_aggval_group(\n",
    "        df_passenger_agg, \"Fare\", [row[\"Pclass\"], row[\"Sex\"]]\n",
    "    )) if pd.isnull(row[\"Fare\"]) else row[\"Fare\"],\n",
    "    axis = 1\n",
    ")\n",
    "\n",
    "df_passenger[\"Age\"] = df_passenger.apply(\n",
    "    lambda row: int(get_aggval_group(\n",
    "        df_passenger_agg, \"Age\", [row[\"Pclass\"], row[\"Sex\"]]\n",
    "    )) if (pd.isnull(row[\"Age\"]) or row[\"Age\"] > 110) else row[\"Age\"],\n",
    "    axis = 1\n",
    ")"
   ]
  },
  {
   "cell_type": "markdown",
   "metadata": {},
   "source": [
    "2.\tCrie novas colunas a partir das existentes, como:\n",
    "- Faixa etária (crianças, adolescentes, adultos, idosos)\n",
    "- Família a bordo (com base em SibSp e Parch)"
   ]
  },
  {
   "cell_type": "code",
   "execution_count": 7,
   "metadata": {},
   "outputs": [],
   "source": [
    "def assign_faixa_etaria(col):\n",
    "    arr_intervalos = [0, 12, 18, 65, 200]\n",
    "    arr_labels = ['criança', 'adolescente', 'adulto', 'idoso']\n",
    "    return pd.cut(col, arr_intervalos, labels=arr_labels)\n",
    "\n",
    "df_passenger[\"FaixaEtaria\"] = assign_faixa_etaria(df_passenger[\"Age\"])\n",
    "df_passenger[\"FamiliaABordo\"] = (df_passenger[\"SibSp\"] + df_passenger[\"Parch\"] > 0).astype(int)"
   ]
  },
  {
   "cell_type": "markdown",
   "metadata": {},
   "source": [
    "3.\tConverta colunas categóricas em numéricas, se necessário, para facilitar a análise."
   ]
  },
  {
   "cell_type": "code",
   "execution_count": 8,
   "metadata": {},
   "outputs": [],
   "source": [
    "for col in [\"Embarked\", \"Sex\"]:\n",
    "    df_passenger[col] = df_passenger[col].astype(\"category\")"
   ]
  },
  {
   "cell_type": "markdown",
   "metadata": {},
   "source": [
    "4.\tNormalize ou padronize as colunas de valores numéricos."
   ]
  },
  {
   "cell_type": "code",
   "execution_count": 9,
   "metadata": {},
   "outputs": [],
   "source": [
    "normalizer = preprocessing.StandardScaler()"
   ]
  },
  {
   "cell_type": "code",
   "execution_count": 10,
   "metadata": {},
   "outputs": [],
   "source": [
    "# normalized_values = normalizer.fit_transform(df[[\"Age\", \"Fare\"]])"
   ]
  },
  {
   "cell_type": "markdown",
   "metadata": {},
   "source": [
    "### Passo 3: Análise Exploratória de Dados (EDA)"
   ]
  },
  {
   "cell_type": "markdown",
   "metadata": {},
   "source": [
    "1.\tCrie gráficos para visualizar a distribuição dos dados, como:\n",
    "- Histograma da idade\n",
    "- Gráfico de barras para classe (Pclass)\n",
    "- Gráfico de barras para sobrevivência (Survived)"
   ]
  },
  {
   "cell_type": "code",
   "execution_count": 11,
   "metadata": {},
   "outputs": [
    {
     "data": {
      "text/plain": [
       "<Axes: >"
      ]
     },
     "execution_count": 11,
     "metadata": {},
     "output_type": "execute_result"
    },
    {
     "data": {
      "image/png": "[encoded data removed]",
      "text/plain": [
       "<Figure size 640x480 with 1 Axes>"
      ]
     },
     "metadata": {},
     "output_type": "display_data"
    }
   ],
   "source": [
    "df_passenger[\"Age\"].hist()"
   ]
  },
  {
   "cell_type": "code",
   "execution_count": 12,
   "metadata": {},
   "outputs": [
    {
     "data": {
      "text/plain": [
       "<Axes: title={'center': 'DataFrame Plot'}, xlabel='Pclass'>"
      ]
     },
     "execution_count": 12,
     "metadata": {},
     "output_type": "execute_result"
    },
    {
     "data": {
      "image/png": "[encoded data removed]",
      "text/plain": [
       "<Figure size 640x480 with 1 Axes>"
      ]
     },
     "metadata": {},
     "output_type": "display_data"
    }
   ],
   "source": [
    "df_passenger.groupby([\"Pclass\"])[\"PassengerId\"].agg(\"count\").plot(\n",
    "    kind=\"bar\",\n",
    "    title=\"DataFrame Plot\"\n",
    ")"
   ]
  },
  {
   "cell_type": "code",
   "execution_count": 13,
   "metadata": {},
   "outputs": [
    {
     "data": {
      "text/plain": [
       "<Axes: title={'center': 'DataFrame Plot'}, xlabel='Survived'>"
      ]
     },
     "execution_count": 13,
     "metadata": {},
     "output_type": "execute_result"
    },
    {
     "data": {
      "image/png": "[encoded data removed]",
      "text/plain": [
       "<Figure size 640x480 with 1 Axes>"
      ]
     },
     "metadata": {},
     "output_type": "display_data"
    }
   ],
   "source": [
    "df_passenger.groupby([\"Survived\"])[\"PassengerId\"].agg(\"count\").plot(\n",
    "    kind=\"bar\",\n",
    "    title=\"DataFrame Plot\"\n",
    ")"
   ]
  },
  {
   "cell_type": "markdown",
   "metadata": {},
   "source": [
    "2.\tAnalise a correlação entre variáveis, como a relação entre a classe do passageiro e a taxa de sobrevivência."
   ]
  },
  {
   "cell_type": "code",
   "execution_count": 14,
   "metadata": {},
   "outputs": [
    {
     "name": "stderr",
     "output_type": "stream",
     "text": [
      "C:\\Users\\marcu\\AppData\\Local\\Temp\\ipykernel_26068\\932538029.py:1: FutureWarning: The default value of numeric_only in DataFrame.corr is deprecated. In a future version, it will default to False. Select only valid columns or specify the value of numeric_only to silence this warning.\n",
      "  df_passenger.corr()\n"
     ]
    },
    {
     "data": {
      "text/html": [
       "<div>\n",
       "<style scoped>\n",
       "    .dataframe tbody tr th:only-of-type {\n",
       "        vertical-align: middle;\n",
       "    }\n",
       "\n",
       "    .dataframe tbody tr th {\n",
       "        vertical-align: top;\n",
       "    }\n",
       "\n",
       "    .dataframe thead th {\n",
       "        text-align: right;\n",
       "    }\n",
       "</style>\n",
       "<table border=\"1\" class=\"dataframe\">\n",
       "  <thead>\n",
       "    <tr style=\"text-align: right;\">\n",
       "      <th></th>\n",
       "      <th>PassengerId</th>\n",
       "      <th>Survived</th>\n",
       "      <th>Pclass</th>\n",
       "      <th>Age</th>\n",
       "      <th>SibSp</th>\n",
       "      <th>Parch</th>\n",
       "      <th>Fare</th>\n",
       "      <th>FamiliaABordo</th>\n",
       "    </tr>\n",
       "  </thead>\n",
       "  <tbody>\n",
       "    <tr>\n",
       "      <th>PassengerId</th>\n",
       "      <td>1.000000</td>\n",
       "      <td>-0.023245</td>\n",
       "      <td>-0.026751</td>\n",
       "      <td>-0.013988</td>\n",
       "      <td>0.003818</td>\n",
       "      <td>0.043080</td>\n",
       "      <td>0.022896</td>\n",
       "      <td>0.000629</td>\n",
       "    </tr>\n",
       "    <tr>\n",
       "      <th>Survived</th>\n",
       "      <td>-0.023245</td>\n",
       "      <td>1.000000</td>\n",
       "      <td>-0.108615</td>\n",
       "      <td>-0.225806</td>\n",
       "      <td>0.099943</td>\n",
       "      <td>0.159120</td>\n",
       "      <td>0.152042</td>\n",
       "      <td>0.244187</td>\n",
       "    </tr>\n",
       "    <tr>\n",
       "      <th>Pclass</th>\n",
       "      <td>-0.026751</td>\n",
       "      <td>-0.108615</td>\n",
       "      <td>1.000000</td>\n",
       "      <td>-0.161926</td>\n",
       "      <td>0.001087</td>\n",
       "      <td>0.018721</td>\n",
       "      <td>-0.342111</td>\n",
       "      <td>-0.173555</td>\n",
       "    </tr>\n",
       "    <tr>\n",
       "      <th>Age</th>\n",
       "      <td>-0.013988</td>\n",
       "      <td>-0.225806</td>\n",
       "      <td>-0.161926</td>\n",
       "      <td>1.000000</td>\n",
       "      <td>-0.070854</td>\n",
       "      <td>-0.032844</td>\n",
       "      <td>0.123320</td>\n",
       "      <td>-0.031778</td>\n",
       "    </tr>\n",
       "    <tr>\n",
       "      <th>SibSp</th>\n",
       "      <td>0.003818</td>\n",
       "      <td>0.099943</td>\n",
       "      <td>0.001087</td>\n",
       "      <td>-0.070854</td>\n",
       "      <td>1.000000</td>\n",
       "      <td>0.306895</td>\n",
       "      <td>0.033191</td>\n",
       "      <td>0.618483</td>\n",
       "    </tr>\n",
       "    <tr>\n",
       "      <th>Parch</th>\n",
       "      <td>0.043080</td>\n",
       "      <td>0.159120</td>\n",
       "      <td>0.018721</td>\n",
       "      <td>-0.032844</td>\n",
       "      <td>0.306895</td>\n",
       "      <td>1.000000</td>\n",
       "      <td>0.019637</td>\n",
       "      <td>0.495618</td>\n",
       "    </tr>\n",
       "    <tr>\n",
       "      <th>Fare</th>\n",
       "      <td>0.022896</td>\n",
       "      <td>0.152042</td>\n",
       "      <td>-0.342111</td>\n",
       "      <td>0.123320</td>\n",
       "      <td>0.033191</td>\n",
       "      <td>0.019637</td>\n",
       "      <td>1.000000</td>\n",
       "      <td>0.167603</td>\n",
       "    </tr>\n",
       "    <tr>\n",
       "      <th>FamiliaABordo</th>\n",
       "      <td>0.000629</td>\n",
       "      <td>0.244187</td>\n",
       "      <td>-0.173555</td>\n",
       "      <td>-0.031778</td>\n",
       "      <td>0.618483</td>\n",
       "      <td>0.495618</td>\n",
       "      <td>0.167603</td>\n",
       "      <td>1.000000</td>\n",
       "    </tr>\n",
       "  </tbody>\n",
       "</table>\n",
       "</div>"
      ],
      "text/plain": [
       "               PassengerId  Survived    Pclass       Age     SibSp     Parch  \\\n",
       "PassengerId       1.000000 -0.023245 -0.026751 -0.013988  0.003818  0.043080   \n",
       "Survived         -0.023245  1.000000 -0.108615 -0.225806  0.099943  0.159120   \n",
       "Pclass           -0.026751 -0.108615  1.000000 -0.161926  0.001087  0.018721   \n",
       "Age              -0.013988 -0.225806 -0.161926  1.000000 -0.070854 -0.032844   \n",
       "SibSp             0.003818  0.099943  0.001087 -0.070854  1.000000  0.306895   \n",
       "Parch             0.043080  0.159120  0.018721 -0.032844  0.306895  1.000000   \n",
       "Fare              0.022896  0.152042 -0.342111  0.123320  0.033191  0.019637   \n",
       "FamiliaABordo     0.000629  0.244187 -0.173555 -0.031778  0.618483  0.495618   \n",
       "\n",
       "                   Fare  FamiliaABordo  \n",
       "PassengerId    0.022896       0.000629  \n",
       "Survived       0.152042       0.244187  \n",
       "Pclass        -0.342111      -0.173555  \n",
       "Age            0.123320      -0.031778  \n",
       "SibSp          0.033191       0.618483  \n",
       "Parch          0.019637       0.495618  \n",
       "Fare           1.000000       0.167603  \n",
       "FamiliaABordo  0.167603       1.000000  "
      ]
     },
     "execution_count": 14,
     "metadata": {},
     "output_type": "execute_result"
    }
   ],
   "source": [
    "df_passenger.corr()"
   ]
  },
  {
   "cell_type": "code",
   "execution_count": 15,
   "metadata": {},
   "outputs": [
    {
     "name": "stderr",
     "output_type": "stream",
     "text": [
      "C:\\Users\\marcu\\AppData\\Local\\Temp\\ipykernel_26068\\2011518385.py:1: FutureWarning: The default value of numeric_only in DataFrame.corr is deprecated. In a future version, it will default to False. Select only valid columns or specify the value of numeric_only to silence this warning.\n",
      "  df_passenger.corr().loc[\"Survived\"].sort_values(ascending=False)\n"
     ]
    },
    {
     "data": {
      "text/plain": [
       "Survived         1.000000\n",
       "FamiliaABordo    0.244187\n",
       "Parch            0.159120\n",
       "Fare             0.152042\n",
       "SibSp            0.099943\n",
       "PassengerId     -0.023245\n",
       "Pclass          -0.108615\n",
       "Age             -0.225806\n",
       "Name: Survived, dtype: float64"
      ]
     },
     "execution_count": 15,
     "metadata": {},
     "output_type": "execute_result"
    }
   ],
   "source": [
    "df_passenger.corr().loc[\"Survived\"].sort_values(ascending=False)"
   ]
  },
  {
   "cell_type": "markdown",
   "metadata": {},
   "source": [
    "**Resposta**: Não há forte correlação entre sobrevivência e as demais colunas."
   ]
  },
  {
   "cell_type": "markdown",
   "metadata": {},
   "source": [
    "3.\tUse técnicas de visualização avançadas, como gráficos de violino, gráficos de densidade e mapas de calor."
   ]
  },
  {
   "cell_type": "code",
   "execution_count": 16,
   "metadata": {},
   "outputs": [
    {
     "data": {
      "text/plain": [
       "<Axes: xlabel='Survived', ylabel='Age'>"
      ]
     },
     "execution_count": 16,
     "metadata": {},
     "output_type": "execute_result"
    },
    {
     "data": {
      "image/png": "[encoded data removed]",
      "text/plain": [
       "<Figure size 640x480 with 1 Axes>"
      ]
     },
     "metadata": {},
     "output_type": "display_data"
    }
   ],
   "source": [
    "sb.violinplot(x=\"Survived\", y=\"Age\", hue='Sex', data=df_passenger)"
   ]
  },
  {
   "cell_type": "code",
   "execution_count": 17,
   "metadata": {},
   "outputs": [
    {
     "data": {
      "text/plain": [
       "<Axes: xlabel='Age', ylabel='Density'>"
      ]
     },
     "execution_count": 17,
     "metadata": {},
     "output_type": "execute_result"
    },
    {
     "data": {
      "image/png": "[encoded data removed]",
      "text/plain": [
       "<Figure size 640x480 with 1 Axes>"
      ]
     },
     "metadata": {},
     "output_type": "display_data"
    }
   ],
   "source": [
    "sb.kdeplot(df_passenger, x=\"Age\")"
   ]
  },
  {
   "cell_type": "code",
   "execution_count": 18,
   "metadata": {},
   "outputs": [
    {
     "name": "stderr",
     "output_type": "stream",
     "text": [
      "C:\\Users\\marcu\\AppData\\Local\\Temp\\ipykernel_26068\\4206958047.py:1: FutureWarning: The default value of numeric_only in DataFrame.corr is deprecated. In a future version, it will default to False. Select only valid columns or specify the value of numeric_only to silence this warning.\n",
      "  sb.heatmap(df_passenger.corr(), cmap = \"YlGnBu\", annot=True, fmt=\".2f\")\n"
     ]
    },
    {
     "data": {
      "text/plain": [
       "<Axes: >"
      ]
     },
     "execution_count": 18,
     "metadata": {},
     "output_type": "execute_result"
    },
    {
     "data": {
      "image/png": "[encoded data removed]",
      "text/plain": [
       "<Figure size 640x480 with 2 Axes>"
      ]
     },
     "metadata": {},
     "output_type": "display_data"
    }
   ],
   "source": [
    "sb.heatmap(df_passenger.corr(), cmap = \"YlGnBu\", annot=True, fmt=\".2f\")"
   ]
  },
  {
   "cell_type": "markdown",
   "metadata": {},
   "source": [
    "### Passo 4: Integração de Fontes Externas"
   ]
  },
  {
   "cell_type": "markdown",
   "metadata": {},
   "source": [
    "1.\tEncontre e integre dados externos relevantes, como informações meteorológicas da noite do naufrágio, detalhes sobre a tripulação ou dados socioeconômicos da época.\n",
    "\n",
    "**Obs.**:\n",
    "- Foram incluídos dados da tripulação que estão disponíveis em [Kaggle | Titanic Passengers and Crew Complete List](https://www.kaggle.com/datasets/aliaamiri/titanic-passengers-and-crew-complete-list/data)\n",
    "- Dados socioeconômicos utilizados disponíveis em [UK Data Service](https://beta.ukdataservice.ac.uk/datacatalogue/studies/study?id=4559)\n",
    "- Dados meteorológicos utilizados disponíveis em [GitHub | alanjones2/uk-historical-weather](https://raw.githubusercontent.com/alanjones2/uk-historical-weather/main/data/Southampton.csv)"
   ]
  },
  {
   "cell_type": "code",
   "execution_count": 19,
   "metadata": {},
   "outputs": [],
   "source": [
    "df_se_uk = pd.read_table(\"input/socioeconomic/occ_1911_lg_t.tab\")\n",
    "df_se_uk = df_se_uk[\n",
    "    (df_se_uk[\"occupation\"].isin([\n",
    "        \"TOTAL OCCUPIED AND UNOCCUPIED.\",\n",
    "        \"Retired or Unoccupied (Order XXIII.)\"\n",
    "    ]) &\n",
    "    (df_se_uk[\"adm_cnty\"] == \"ENGLAND AND WALES\")\n",
    ")].reset_index()\n",
    "\n",
    "df_se_uk[\"fg_occupied\"] = df_se_uk[\"occupation\"].apply(lambda x: int(\"total occupied\" in str(x).lower()))\n",
    "df_se_uk = df_se_uk.rename(columns={\"adm_cnty\": \"area\"})\n",
    "\n",
    "\n",
    "df_se_scot = pd.read_table(\"input/socioeconomic/occ_1911_s.tab\")\n",
    "df_se_scot = df_se_scot[\n",
    "    (df_se_scot[\"occupation\"].isin([\n",
    "        \"Total Occupied (Orders I.-XXII.)\",\n",
    "        \"Total of Unspecified or No Occupation (Order XXIII.)\"\n",
    "    ]) &\n",
    "    (df_se_scot[\"area_type\"] == \"Nation\")\n",
    ")].reset_index()\n",
    "\n",
    "df_se_scot[\"fg_occupied\"] = df_se_scot[\"occupation\"].apply(lambda x: int(\"occupied\" in str(x).lower()))\n",
    "df_se_scot = df_se_scot.rename(columns={\"sco_cnty\": \"area\"})"
   ]
  },
  {
   "cell_type": "code",
   "execution_count": 20,
   "metadata": {},
   "outputs": [],
   "source": [
    "df_weather = pd.read_csv(\n",
    "    \"input/weather.csv\",\n",
    "    sep=\",\",\n",
    "    index_col=0\n",
    ")"
   ]
  },
  {
   "cell_type": "code",
   "execution_count": 21,
   "metadata": {},
   "outputs": [],
   "source": [
    "df_crew = pd.read_csv(\"input/titanic.csv\", sep=\",\")\n",
    "\n",
    "df_crew[\"fg_crew\"] = df_crew[\"class\"].apply(lambda x: int(\"crew\" in x or \"staff\" in x))\n",
    "df_crew = df_crew.rename(columns={\n",
    "    \"name\": \"Name\",\n",
    "    \"gender\": \"Sex\",\n",
    "    \"age\": \"Age\",\n",
    "    \"class\": \"Pclass\",\n",
    "    \"embarked\": \"Embarked\",\n",
    "    \"ticketno\": \"Ticket\",\n",
    "    \"fare\": \"Fare\",\n",
    "    \"sibsp\": \"SibSp\",\n",
    "    \"parch\": \"Parch\",\n",
    "    \"survived\": \"Survived\"\n",
    "})\n",
    "df_crew[\"Sex\"] = df_crew[\"Sex\"].apply(assign_sex)\n",
    "df_crew[\"country\"] = df_crew[\"country\"].fillna(\"NA\")\n",
    "df_crew[\"Ticket\"] = df_crew[\"Ticket\"].fillna(\"NA\")\n",
    "df_crew[\"SibSp\"] = df_crew[\"SibSp\"].fillna(0)\n",
    "df_crew[\"Parch\"] = df_crew[\"Parch\"].fillna(0)\n",
    "df_crew[\"Survived\"] = df_crew[\"Survived\"].apply(lambda x: int(x == \"yes\"))\n",
    "\n",
    "df_crew[\"Fare\"] = df_crew.apply(\n",
    "    lambda row: 0 if (\"crew\" in row[\"Pclass\"] or \"staff\" in row[\"Pclass\"]) else row[\"Fare\"],\n",
    "    axis = 1\n",
    ")\n",
    "\n",
    "df_crew[\"situacao\"] = df_crew[\"Pclass\"]\n",
    "df_crew[\"Pclass\"] = df_crew.apply(\n",
    "    lambda row: 0 if row[\"fg_crew\"] == 1 else int(row[\"Pclass\"][:1]), \n",
    "    axis = 1\n",
    ")\n",
    "\n",
    "df_crew_agg = df_crew.groupby([\"Pclass\", \"Sex\"])\n",
    "\n",
    "df_crew[\"Fare\"] = df_crew.apply(\n",
    "    lambda row: get_aggval_group(\n",
    "        df_crew_agg, \"Fare\",[row[\"Pclass\"], row[\"Sex\"]]\n",
    "    ) if pd.isnull(row[\"Fare\"]) else row[\"Fare\"],\n",
    "    axis = 1\n",
    ")\n",
    "\n",
    "df_crew[\"Age\"] = df_crew.apply(\n",
    "    lambda row: get_aggval_group(\n",
    "        df_crew_agg, \"Age\", [row[\"Pclass\"], row[\"Sex\"]]\n",
    "    ) if pd.isnull(row[\"Age\"]) else row[\"Age\"],\n",
    "    axis = 1\n",
    ")\n",
    "\n",
    "df_crew[\"FaixaEtaria\"] = assign_faixa_etaria(df_crew[\"Age\"])\n",
    "df_crew[\"Cabin\"] = \"NA\"\n",
    "df_crew[\"FamiliaABordo\"] = (df_crew[\"SibSp\"] + df_crew[\"Parch\"] > 0).astype(int)\n",
    "df_crew[\"PassengerId\"] = 0\n",
    "\n",
    "cols_to_merge = [\"Name\", \"Age\", \"Embarked\"]\n",
    "df_passenger = df_passenger.merge(\n",
    "    df_crew.set_index(cols_to_merge)[[\"country\", \"fg_crew\"]],\n",
    "    how=\"left\",\n",
    "    right_index=True,\n",
    "    left_on=cols_to_merge\n",
    ")\n",
    "\n",
    "df_passenger[\"fg_crew\"] = df_passenger[\"fg_crew\"].fillna(0)\n",
    "df_passenger[\"fg_crew\"] = df_passenger[\"fg_crew\"].fillna(0)"
   ]
  },
  {
   "cell_type": "markdown",
   "metadata": {},
   "source": [
    "2.\tCombine esses dados com o dataset do Titanic para enriquecer a análise."
   ]
  },
  {
   "cell_type": "code",
   "execution_count": 22,
   "metadata": {},
   "outputs": [],
   "source": [
    "df_passenger[\"data_origin\"] = \"initial dataset\"\n",
    "df_crew[\"data_origin\"] = \"crew dataset\"\n",
    "\n",
    "df_combined = pd.concat(\n",
    "    [df_passenger, df_crew[df_passenger.columns]]\n",
    ").drop_duplicates([\n",
    "    \"Name\",\n",
    "    \"Sex\",\n",
    "    \"Age\"\n",
    "], keep=\"first\")\n",
    "\n",
    "LAST_ID = df_combined[\"PassengerId\"].max()\n",
    "def get_new_id():\n",
    "    global LAST_ID\n",
    "    LAST_ID += 1\n",
    "    \n",
    "    return LAST_ID\n",
    "    \n",
    "df_combined[\"PassengerId\"] = df_combined[\"PassengerId\"].apply(lambda x: get_new_id() if x == 0 else x)"
   ]
  },
  {
   "cell_type": "markdown",
   "metadata": {},
   "source": [
    "### Passo 5: Modelagem Dimensional e Criação de Cubos"
   ]
  },
  {
   "cell_type": "markdown",
   "metadata": {},
   "source": [
    "1.\tIdentifique as dimensões e fatos para a criação do cubo. Possíveis dimensões:\n",
    "- Dimensão Tempo: Ano, Mês, Dia\n",
    "- Dimensão Passageiro: Idade, Sexo, Classe, Embarque\n",
    "- Dimensão Ticket: Número do Ticket, Tarifa\n",
    "- Dimensão Externa: Dados meteorológicos, Socioeconômicos\n",
    "\n",
    "**Resposta:**\n",
    "\n",
    "- Dimensão Tempo:\n",
    "    - Timestamp;\n",
    "    - Ano;\n",
    "    - Mês;\n",
    "    - Dia.\n",
    "\n",
    "- Dimensão Idade:\n",
    "    - ID Idade;\n",
    "    - Idade;\n",
    "    - Faixa Etária.\n",
    "\n",
    "- Dimensão Gênero:\n",
    "    - Gênero.\n",
    "\n",
    "- Dimensão Ticket:\n",
    "    - Número do Ticket;\n",
    "    - Tarifa.\n",
    "\n",
    "- Dimensão Classe:\n",
    "    - Classe.\n",
    "\n",
    "- Dimensão Local de embarque:\n",
    "    - ID Local de embarque;\n",
    "    - Porto;\n",
    "    - Cidade;\n",
    "    - Condado / província;\n",
    "    - País.\n",
    "\n",
    "- Dimensão Cabine:\n",
    "    - Número da cabine;\n",
    "    - Fileira;\n",
    "    - Sala.\n",
    "\n",
    "- Dimensão dados socioeconômicos:\n",
    "    - Empregado ou desempregado.\n",
    "\n",
    "- Dimensão dados meteorológicos:\n",
    "    - Tempo;\n",
    "    - Condições de tempo.\n",
    "\n",
    "- Dimensão Passageiro:\n",
    "    - Idade;\n",
    "    - Gênero;\n",
    "    - Ticket;\n",
    "    - Classe;\n",
    "    - Local de Embarque;\n",
    "    - Cabine;\n",
    "    - Tinha familiares no barco;\n",
    "    - Membro da tripulação ou staff;\n",
    "    - Dados socioeconômicos.\n",
    "\n",
    "- Dimensão Externa:\n",
    "    - Dados meteorológicos;\n",
    "    - Dados socioeconômicos.\n",
    "\n",
    "- Fato Sobrevivência:\n",
    "    - ID do Passageiro;\n",
    "    - Sobreviveu;\n",
    "    - Dados meteorológicos."
   ]
  },
  {
   "cell_type": "markdown",
   "metadata": {},
   "source": [
    "2.\tCrie um modelo dimensional (esquema estrela ou floco de neve) baseado nas dimensões identificadas.\n",
    "\n",
    "**Resposta:** Modelo está no relacionamento do arquivo Power BI."
   ]
  },
  {
   "cell_type": "markdown",
   "metadata": {},
   "source": [
    "3.\tUse uma ferramenta de BI (como Microsoft Power BI, Tableau, etc.) para criar um cubo OLAP e carregue os dados.\n",
    "\n",
    "**Resposta:** Modelo construído no Power BI."
   ]
  },
  {
   "cell_type": "markdown",
   "metadata": {},
   "source": [
    "4.\tConsidere a otimização do desempenho do cubo, como a criação de agregados e índices.\n",
    "\n",
    "**Resposta:** Modelo construído no Power BI."
   ]
  },
  {
   "cell_type": "markdown",
   "metadata": {},
   "source": [
    "### O seu cubo precisa responder:"
   ]
  },
  {
   "cell_type": "markdown",
   "metadata": {},
   "source": [
    "- Qual a taxa de sobrevivência por classe?\n",
    "\n",
    "**Resposta:**\n",
    "\n",
    "| **Classe**        | **Sobreviventes** |\n",
    "|-------------------|-------------------|\n",
    "| 1ª classe         |       59,7%       |\n",
    "| 2ª classe         |       39,6%       |\n",
    "| 3ª classe         |       27,1%       |\n",
    "| Serviços do Navio |       23,7%       |\n",
    "| **Total**         |     **32,8%**    |\n",
    "\n",
    "- Qual a distribuição de idade entre os passageiros que sobreviveram e os que não sobreviveram?\n",
    "\n",
    "**Resposta:**\n",
    "\n",
    "| **Classe**   | **Sobreviventes** | **Fatalidades** |\n",
    "|--------------|-------------------|-----------------|\n",
    "| Crianças     |       52,1%       |      47,9%      |\n",
    "| Adolescentes |       35,0%       |      65,0%      |\n",
    "| Adultos      |       32,4%       |      67,6%      |\n",
    "| Idosos       |       20,9%       |      79,1%      |\n",
    "| **Total**    |     **32,8%**     |    **67,2%**    |\n",
    "\n",
    "- Como a tarifa do ticket influencia a sobrevivência?\n",
    "\n",
    "\n",
    "**Resposta:** Quanto mais alta a tarifa, maior a chance de sobrevivência.\n",
    "\n",
    "- Qual o impacto das condições meteorológicas na sobrevivência?\n",
    "\n",
    "**Resposta:** Os dados utilizados sobre as condições meteorológicas não foram capazes de responder essa pergunta, uma vez que todas as pessoas envolvidas enfrentaram as mesmas condições.\n",
    "\n",
    "- Crie relatórios e dashboards que visualizam essas análises.\n",
    "\n",
    "**Resposta:** Modelo construído no PowerBI.\n",
    "\n",
    "- Otimize as consultas OLAP para melhorar o desempenho.\n",
    "\n",
    "**Resposta:** Realizado com auxílio do Excel e processamento no Pandas.\n"
   ]
  },
  {
   "cell_type": "markdown",
   "metadata": {},
   "source": [
    "### Passo 7: Análise Preditiva"
   ]
  },
  {
   "cell_type": "markdown",
   "metadata": {},
   "source": [
    "1.\tUtilize técnicas de machine learning para criar um modelo preditivo que estime a probabilidade de sobrevivência dos passageiros.\n",
    "- Divida os dados em conjunto de treino e teste.\n",
    "- Utilize algoritmos como regressão logística, árvores de decisão ou redes neurais.\n",
    "- Avalie o modelo usando métricas apropriadas (acurácia, precisão, recall, F1-score)."
   ]
  },
  {
   "cell_type": "code",
   "execution_count": 29,
   "metadata": {},
   "outputs": [
    {
     "name": "stdout",
     "output_type": "stream",
     "text": [
      "Acurácia do modelo de Regressão Logística: 97.14%\n"
     ]
    },
    {
     "name": "stderr",
     "output_type": "stream",
     "text": [
      "c:\\Users\\marcu\\AppData\\Local\\Programs\\Python\\Python311\\Lib\\site-packages\\sklearn\\linear_model\\_logistic.py:469: ConvergenceWarning: lbfgs failed to converge (status=1):\n",
      "STOP: TOTAL NO. of ITERATIONS REACHED LIMIT.\n",
      "\n",
      "Increase the number of iterations (max_iter) or scale the data as shown in:\n",
      "    https://scikit-learn.org/stable/modules/preprocessing.html\n",
      "Please also refer to the documentation for alternative solver options:\n",
      "    https://scikit-learn.org/stable/modules/linear_model.html#logistic-regression\n",
      "  n_iter_i = _check_optimize_result(\n"
     ]
    }
   ],
   "source": [
    "df_people = pd.read_csv(\n",
    "    \"cubo/data/people.csv\",\n",
    "    sep=\";\",\n",
    "    decimal=\",\"\n",
    ")\n",
    "\n",
    "df_people[\"Embarked\"] = df_people[\"Embarked\"].map({\n",
    "    \"S\": 0,\n",
    "    \"C\": 1,\n",
    "    \"B\": 2,\n",
    "    \"Q\": 3,\n",
    "})\n",
    "df_people[\"FaixaEtaria\"] = df_people[\"FaixaEtaria\"].map({\n",
    "    \"criança\": 0,\n",
    "    \"adolescente\": 1,\n",
    "    \"adulto\": 2,\n",
    "    \"idoso\": 3,\n",
    "})\n",
    "df_people[\"Age\"] = df_people[\"Age\"].astype(float)\n",
    "\n",
    "for col in [\n",
    "    \"Name\",\n",
    "    \"Sex\",\n",
    "    \"Cabin\",\n",
    "    \"country\",\n",
    "    \"Ticket\",\n",
    "    \"data_origin\",\n",
    "    \"PassengerId\"\n",
    "]:\n",
    "    del df_people[col]\n",
    "    \n",
    "train_df, test_df = train_test_split(df_people, test_size=0.2)\n",
    "\n",
    "X_train = train_df\n",
    "Y_train = train_df[\"Survived\"]\n",
    "X_test  = test_df\n",
    "\n",
    "logreg = LogisticRegression()\n",
    "logreg.fit(X_train, Y_train)\n",
    "\n",
    "Y_pred = logreg.predict(X_test)\n",
    "\n",
    "acc = round(logreg.score(X_train, Y_train) * 100, 2)\n",
    "\n",
    "print(\"Acurácia do modelo de Regressão Logística: \" + str(acc) + \"%\")\n"
   ]
  }
 ],
 "metadata": {
  "kernelspec": {
   "display_name": "Python 3",
   "language": "python",
   "name": "python3"
  },
  "language_info": {
   "codemirror_mode": {
    "name": "ipython",
    "version": 3
   },
   "file_extension": ".py",
   "mimetype": "text/x-python",
   "name": "python",
   "nbconvert_exporter": "python",
   "pygments_lexer": "ipython3",
   "version": "3.11.2"
  }
 },
 "nbformat": 4,
 "nbformat_minor": 2
}
